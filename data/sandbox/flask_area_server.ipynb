{
 "cells": [
  {
   "cell_type": "code",
   "execution_count": null,
   "metadata": {},
   "outputs": [],
   "source": [
    "import geopandas as gpd\n"
   ]
  },
  {
   "cell_type": "code",
   "execution_count": null,
   "metadata": {},
   "outputs": [],
   "source": [
    "# Runtime 10m, loading in the NFIxAWI overlayed datasets\n",
    "datasets = {}\n",
    "for year in range(2022, 2023):\n",
    "    datasets[f'nfi_awi_overlay_{year}'] = gpd.read_file(f'../data/processed/gb_nfi_awi_overlay_{year}.geojson')"
   ]
  },
  {
   "cell_type": "code",
   "execution_count": null,
   "metadata": {},
   "outputs": [],
   "source": [
    "# Runtime 20m, loading in the NFI overlayed datasets\n",
    "for year in range(2012, 2023):\n",
    "    datasets[f'gb_nfi_dataset_{year}'] = gpd.read_file(f'../data/processed/gb_nfi_dataset_{year}.geojson')"
   ]
  },
  {
   "cell_type": "code",
   "execution_count": null,
   "metadata": {},
   "outputs": [],
   "source": [
    "# Runtime 45s, loading the AWI dataset\n",
    "datasets['gb_awi_dataset'] = gpd.read_file('../data/processed/gb_awi_dataset.geojson')"
   ]
  },
  {
   "cell_type": "code",
   "execution_count": null,
   "metadata": {},
   "outputs": [],
   "source": [
    "from flask import Flask, request, jsonify\n",
    "from flask_cors import CORS\n",
    "from shapely.geometry import box\n",
    "\n",
    "app = Flask(__name__)\n",
    "CORS(app)\n",
    "\n",
    "@app.route('/calculate_areas', methods=['GET'])\n",
    "def calculate_areas():\n",
    "    dataset = datasets[request.args.get('dataset')]\n",
    "    bounds = [float(b) for b in request.args.get('bounds').split(',')]\n",
    "    type = request.args.get('type')\n",
    "    bbox = box(*bounds)\n",
    "\n",
    "    print(f'type: {type}')\n",
    "\n",
    "    sindex = dataset.sindex\n",
    "    selected_indices = list(sindex.intersection(bbox.bounds))\n",
    "    selected_data = dataset.iloc[selected_indices]\n",
    "\n",
    "    areas = selected_data.groupby(type)['area_ha'].sum()\n",
    "    return jsonify(areas.to_dict())\n",
    "\n",
    "if __name__ == '__main__':\n",
    "    app.run(port=3901, debug=False)"
   ]
  }
 ],
 "metadata": {
  "kernelspec": {
   "display_name": ".venv",
   "language": "python",
   "name": "python3"
  },
  "language_info": {
   "codemirror_mode": {
    "name": "ipython",
    "version": 3
   },
   "file_extension": ".py",
   "mimetype": "text/x-python",
   "name": "python",
   "nbconvert_exporter": "python",
   "pygments_lexer": "ipython3",
   "version": "3.11.8"
  }
 },
 "nbformat": 4,
 "nbformat_minor": 2
}

{
 "cells": [
  {
   "cell_type": "code",
   "execution_count": null,
   "metadata": {},
   "outputs": [],
   "source": [
    "from svg.path import parse_path, Line, Move, CubicBezier\n",
    "from xml.dom.minidom import parse, Document\n",
    "from simplification.cutil import simplify_coords, simplify_coords_vw\n",
    "\n",
    "# Parse the SVG file\n",
    "dom = parse('../../lens/src/assets/img/uk-outline.svg')\n",
    "path_strings = [path.getAttribute('d') for path in dom.getElementsByTagName('path')]\n",
    "\n",
    "# Create a new SVG document\n",
    "new_dom = Document()\n",
    "svg_element = new_dom.createElement('svg')\n",
    "new_dom.appendChild(svg_element)\n",
    "\n",
    "for path_string in path_strings:\n",
    "    path_data = parse_path(path_string)\n",
    "\n",
    "    # Simplify curves to straight lines\n",
    "    for i in range(len(path_data)):\n",
    "        segment = path_data[i]\n",
    "        if isinstance(segment, CubicBezier):\n",
    "            # Replace the curve with a straight line\n",
    "            path_data[i] = Line(segment.start, segment.end)\n",
    "\n",
    "    # Convert the path to a list of points\n",
    "    points = [(point.start.real, point.start.imag) for point in path_data if not isinstance(point, Move)]\n",
    "\n",
    "    # Simplify the path using the Ramer-Douglas-Peucker algorithm\n",
    "    simplified_points = simplify_coords(points, 5.0)  # Increase epsilon to 5.0\n",
    "\n",
    "    # Convert the simplified points back to a path\n",
    "    simplified_path_data = ' '.join(f'L {point[0]} {point[1]}' for point in simplified_points)\n",
    "    simplified_path_data = 'M' + simplified_path_data[1:]  # Replace the first 'L' with 'M'\n",
    "\n",
    "    # Create a new path element with the simplified path\n",
    "    path_element = new_dom.createElement('path')\n",
    "    path_element.setAttribute('d', simplified_path_data)\n",
    "    svg_element.appendChild(path_element)\n",
    "\n",
    "# Write the new SVG document to a file\n",
    "with open('uk_outline_01.svg', 'w') as file:\n",
    "    file.write(new_dom.toprettyxml())"
   ]
  }
 ],
 "metadata": {
  "kernelspec": {
   "display_name": ".venv",
   "language": "python",
   "name": "python3"
  },
  "language_info": {
   "codemirror_mode": {
    "name": "ipython",
    "version": 3
   },
   "file_extension": ".py",
   "mimetype": "text/x-python",
   "name": "python",
   "nbconvert_exporter": "python",
   "pygments_lexer": "ipython3",
   "version": "3.11.8"
  }
 },
 "nbformat": 4,
 "nbformat_minor": 2
}

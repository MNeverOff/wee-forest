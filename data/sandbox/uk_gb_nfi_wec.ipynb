{
 "cells": [
  {
   "cell_type": "markdown",
   "metadata": {},
   "source": [
    "## NFI Woodland Ecological Condition\n",
    "\n",
    "The report exists, boasts massive spatial data but I can't find it anywhere?"
   ]
  }
 ],
 "metadata": {
  "language_info": {
   "name": "python"
  }
 },
 "nbformat": 4,
 "nbformat_minor": 2
}

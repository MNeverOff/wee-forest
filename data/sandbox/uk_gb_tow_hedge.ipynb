{
 "cells": [
  {
   "cell_type": "markdown",
   "metadata": {},
   "source": [
    "### Trees outside Woods & Hedges\n",
    "\n",
    "The summary is: `742,000 ha` of TOW, `158,600 ha` hedges & linear features, combined to `900,600 ha` of other \"good trees\"\n",
    "\n",
    "- [TOW report](https://cdn.forestresearch.gov.uk/2022/02/fr_tree_cover_outside_woodland_in_gb_statistical_report_2017.pdf) and [page](https://www.forestresearch.gov.uk/tools-and-resources/national-forest-inventory/trees-outside-woodland-tow/)\n",
    "- [TOW dataset](https://bluesky-world.com/ntm/) is proprietary and is licenced by Bluesky, and that's the data that was used for England and Wales. For Scotland the NWSS + Hand-mapping was used.\n",
    "- [Hedge Data](https://catalogue.ceh.ac.uk/documents/d90a3733-2949-4dfa-8ac2-a88aef8699be) is claimed to be free for non-commercial use but incurrs a £300 \"admin fee\", see [the link](https://www.ceh.ac.uk/data/ukceh-land-cover-plus-hedgerows-2016-2021-england)"
   ]
  }
 ],
 "metadata": {
  "language_info": {
   "name": "python"
  }
 },
 "nbformat": 4,
 "nbformat_minor": 2
}

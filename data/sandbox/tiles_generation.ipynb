{
 "cells": [
  {
   "cell_type": "code",
   "execution_count": null,
   "metadata": {},
   "outputs": [],
   "source": [
    "import os\n",
    "import geopandas as gpd\n",
    "gpd.options.io_engine = 'pyogrio'"
   ]
  },
  {
   "cell_type": "code",
   "execution_count": null,
   "metadata": {},
   "outputs": [],
   "source": [
    "awi_attribution_html = 'Natural England, NatureScot, Scottish Forestry, Natural Resources Wales. Contains Ordnance Survey Data. © <a href=\"https://www.nationalarchives.gov.uk/doc/open-government-licence/version/3/\">Crown copyright and database right 2006-2022</a>'\n",
    "nfi_attribution_html = 'Forestry Commission. Contains Ordnance Survey Data. © <a href=\"https://www.nationalarchives.gov.uk/doc/open-government-licence/version/3/\">Crown copyright and database right 2012-2022</a>'\n",
    "combined_attribution_html = 'Forestry Commission, Natural England, NatureScot, Scottish Forestry, Natural Resources Wales. Contains Ordnance Survey Data. © <a href=\"https://www.nationalarchives.gov.uk/doc/open-government-licence/version/3/\">Crown copyright and database right 2006-2022</a>'"
   ]
  },
  {
   "cell_type": "code",
   "execution_count": null,
   "metadata": {},
   "outputs": [],
   "source": [
    "year = 2022\n",
    "nfi_awi_overlay = gpd.read_parquet(f'../data/processed/gb_nfi_awi_overlay_{year}.parquet')\n",
    "nfi_awi_overlay.geometry = nfi_awi_overlay.geometry.to_crs(epsg=4326)\n",
    "nfi_awi_overlay.geometry = nfi_awi_overlay.geometry.simplify(1e-5)\n",
    "nfi_awi_overlay.to_file(f'tiles/experimental/gb_nfi_awi_overlay_{year}.geojson', driver='GeoJSONSeq')"
   ]
  },
  {
   "cell_type": "code",
   "execution_count": null,
   "metadata": {},
   "outputs": [],
   "source": [
    "# PASS: -zg\n",
    "# Produces a stable result but has artifacting around zoom levels 5-6, 7-9 (linear, cubic)\n",
    "# 2m 17s for geojsonseq | 2m 40s w/o -P\n",
    "!tippecanoe -P -zg -o 'tiles/experimental/gb_nfi_awi_overlay_{year}.mbtiles' 'tiles/experimental/gb_nfi_awi_overlay_{year}.geojson' -n 'gb_nfi_awi_overlay_{year}' -l 'gb_nfi_awi_overlay_{year}' --attribution='{combined_attribution_html}' --description='National Forest Inventory dataset for {year} overlayed with the Ancient Woodland Inventories datasets combined across Great Britain' -f"
   ]
  },
  {
   "cell_type": "code",
   "execution_count": null,
   "metadata": {},
   "outputs": [],
   "source": [
    "# PASS: -zg --gamma=2\n",
    "# Time: 5m, Size: 260MB\n",
    "# Works not bad I must say, generally happy with that!\n",
    "!tippecanoe -P -zg --gamma=1 -o 'tiles/experimental/gb_nfi_awi_overlay_{year}.mbtiles' 'tiles/experimental/gb_nfi_awi_overlay_{year}.geojson' -n 'gb_nfi_awi_overlay_{year}' -l 'gb_nfi_awi_overlay_{year}' --attribution='{combined_attribution_html}' --description='National Forest Inventory dataset for {year} overlayed with the Ancient Woodland Inventories datasets combined across Great Britain' -f"
   ]
  },
  {
   "cell_type": "code",
   "execution_count": null,
   "metadata": {},
   "outputs": [],
   "source": [
    "# PASS: -zg --gamma=1\n",
    "# Time: 4m 15s, Size: 265MB\n",
    "# The artifacts from no gamma are definitely present but are far less noticeable. Good enough for now.\n",
    "# BUG? The tippecanoe's file name lookup seems to be case-insensitive, so it's overwriting the previous file if they're just using z9 and Z9 (casing) to differentiate.\n",
    "!tippecanoe -P -zg -z4 -o 'tiles/experimental/gb_nfi_awi_overlay_{year}-p1.mbtiles' 'tiles/experimental/gb_nfi_awi_overlay_{year}.geojson' -n 'gb_nfi_awi_overlay_{year}' -l 'gb_nfi_awi_overlay_{year}' --attribution='{combined_attribution_html}' --description='National Forest Inventory dataset for {year} overlayed with the Ancient Woodland Inventories datasets combined across Great Britain' -f\n",
    "!tippecanoe -P -zg -Z4 -z6 --drop-smallest-as-needed -o 'tiles/experimental/gb_nfi_awi_overlay_{year}-p2.mbtiles' 'tiles/experimental/gb_nfi_awi_overlay_{year}.geojson' -n 'gb_nfi_awi_overlay_{year}' -l 'gb_nfi_awi_overlay_{year}' --attribution='{combined_attribution_html}' --description='National Forest Inventory dataset for {year} overlayed with the Ancient Woodland Inventories datasets combined across Great Britain' -f\n",
    "!tippecanoe -P -zg -Z6 -z9 --gamma=2 -o 'tiles/experimental/gb_nfi_awi_overlay_{year}-p3.mbtiles' 'tiles/experimental/gb_nfi_awi_overlay_{year}.geojson' -n 'gb_nfi_awi_overlay_{year}' -l 'gb_nfi_awi_overlay_{year}' --attribution='{combined_attribution_html}' --description='National Forest Inventory dataset for {year} overlayed with the Ancient Woodland Inventories datasets combined across Great Britain' -f\n",
    "!tippecanoe -P -zg -Z9 -o 'tiles/experimental/gb_nfi_awi_overlay_{year}-p4.mbtiles' 'tiles/experimental/gb_nfi_awi_overlay_{year}.geojson' -n 'gb_nfi_awi_overlay_{year}' -l 'gb_nfi_awi_overlay_{year}' --attribution='{combined_attribution_html}' --description='National Forest Inventory dataset for {year} overlayed with the Ancient Woodland Inventories datasets combined across Great Britain' -f\n",
    "\n",
    "!tile-join -pk --force -o 'tiles/experimental/gb_nfi_awi_overlay_{year}-p12.mbtiles' 'tiles/experimental/gb_nfi_awi_overlay_{year}-p1.mbtiles' 'tiles/experimental/gb_nfi_awi_overlay_{year}-p2.mbtiles'\n",
    "!tile-join -pk --force -o 'tiles/experimental/gb_nfi_awi_overlay_{year}-p34.mbtiles' 'tiles/experimental/gb_nfi_awi_overlay_{year}-p3.mbtiles' 'tiles/experimental/gb_nfi_awi_overlay_{year}-p4.mbtiles'\n",
    "!tile-join -pk --force -o 'tiles/experimental/gb_nfi_awi_overlay_{year}.mbtiles' 'tiles/experimental/gb_nfi_awi_overlay_{year}-p12.mbtiles' 'tiles/experimental/gb_nfi_awi_overlay_{year}-p34.mbtiles'"
   ]
  },
  {
   "cell_type": "code",
   "execution_count": null,
   "metadata": {},
   "outputs": [],
   "source": [
    "# PASS: --drop-smallest-as-needed\n",
    "## The clashing is gone, but an enormous amount of features is not represented, in a way that's not satisfying. They do start to appear as the zoom goes and it's the smaller ones that are dropped but I think it can still be done better.\n",
    "# Time: 5m, Size: forgot to check :S\n",
    "!tippecanoe -P -zg --drop-smallest-as-needed -o 'tiles/gb_nfi_awi_overlay_{year}.mbtiles' 'tiles/gb_nfi_awi_overlay_{year}.geojson' -n 'gb_nfi_awi_overlay_{year}' -l 'gb_nfi_awi_overlay_{year}' --attribution='{combined_attribution_html}' --description='National Forest Inventory dataset for {year} overlayed with the Ancient Woodland Inventories datasets combined across Great Britain' -f"
   ]
  },
  {
   "cell_type": "code",
   "execution_count": null,
   "metadata": {},
   "outputs": [],
   "source": [
    "# PASS: --hilbert --coalesce --no-duplication --detect-shared-borders\n",
    "## The clashing is gone, but an enormous amount of features is not represented, in a way that's not satisfying. They do start to appear as the zoom goes and it's the smaller ones that are dropped but I think it can still be done better.\n",
    "# Time: 5m, Size: 275MB\n",
    "# This gives great results zoom levels 8 and above. Still has a pronounced line in England for zoom 5-6\n",
    "!tippecanoe -P -zg --hilbert --coalesce --no-duplication --detect-shared-borders -o 'tiles/gb_nfi_awi_overlay_{year}.mbtiles' 'tiles/gb_nfi_awi_overlay_{year}.geojson' -n 'gb_nfi_awi_overlay_{year}' -l 'gb_nfi_awi_overlay_{year}' --attribution='{combined_attribution_html}' --description='National Forest Inventory dataset for {year} overlayed with the Ancient Woodland Inventories datasets combined across Great Britain' -f"
   ]
  },
  {
   "cell_type": "code",
   "execution_count": null,
   "metadata": {},
   "outputs": [],
   "source": [
    "# PASS: --hilbert --coalesce --no-duplication --detect-shared-borders --drop-smallest-as-needed\n",
    "## The clashing is gone, but an enormous amount of features is not represented, in a way that's not satisfying. They do start to appear as the zoom goes and it's the smaller ones that are dropped but I think it can still be done better.\n",
    "# Time: 6m 45s, Size: 245MB\n",
    "# Mediocre result, a lot of features dropped, bad\n",
    "!tippecanoe -P -zg --hilbert --coalesce --no-duplication --detect-shared-borders --drop-smallest-as-needed -o 'tiles/gb_nfi_awi_overlay_{year}.mbtiles' 'tiles/gb_nfi_awi_overlay_{year}.geojson' -n 'gb_nfi_awi_overlay_{year}' -l 'gb_nfi_awi_overlay_{year}' --attribution='{combined_attribution_html}' --description='National Forest Inventory dataset for {year} overlayed with the Ancient Woodland Inventories datasets combined across Great Britain' -f"
   ]
  },
  {
   "cell_type": "code",
   "execution_count": null,
   "metadata": {},
   "outputs": [],
   "source": [
    "# PASS: --hilbert --coalesce --no-duplication --detect-shared-borders --drop-fraction-as-needed\n",
    "# Time: 5m, Size: 238MB\n",
    "# Not better than the usual --drop-fraction-as-needed\n",
    "!tippecanoe -P -zg --hilbert --coalesce --no-duplication --detect-shared-borders --drop-fraction-as-needed -o 'tiles/experimental/gb_nfi_awi_overlay_{year}.mbtiles' 'tiles/experimental/gb_nfi_awi_overlay_{year}.geojson' -n 'gb_nfi_awi_overlay_{year}' -l 'gb_nfi_awi_overlay_{year}' --attribution='{combined_attribution_html}' --description='National Forest Inventory dataset for {year} overlayed with the Ancient Woodland Inventories datasets combined across Great Britain' -f"
   ]
  },
  {
   "cell_type": "code",
   "execution_count": null,
   "metadata": {},
   "outputs": [],
   "source": [
    "# PASS: -zg --hilbert --coalesce-smallest-as-needed --detect-shared-borders --gamma=1\n",
    "# Time: x, Size: x\n",
    "# Mostly fine at low levels, but drops large polygons at high zoom levels, unacceptable\n",
    "!tippecanoe -P -zg --hilbert --coalesce --detect-shared-borders --gamma=1 -o 'tiles/experimental/gb_nfi_awi_overlay_{year}.mbtiles' 'tiles/experimental/gb_nfi_awi_overlay_{year}.geojson' -n 'gb_nfi_awi_overlay_{year}' -l 'gb_nfi_awi_overlay_{year}' --attribution='{combined_attribution_html}' --description='National Forest Inventory dataset for {year} overlayed with the Ancient Woodland Inventories datasets combined across Great Britain' -f"
   ]
  },
  {
   "cell_type": "code",
   "execution_count": null,
   "metadata": {},
   "outputs": [],
   "source": [
    "# FAIL: --coalesce-fraction-as-needed\n",
    "# Time: x, Size: x\n",
    "# Hangs on 'Going to try keeping 0.00% of the features to make it fit 46.1%  5/15/10 '\n",
    "!tippecanoe -P -zg --coalesce-fraction-as-needed -o 'tiles/experimental/gb_nfi_awi_overlay_{year}.mbtiles' 'tiles/experimental/gb_nfi_awi_overlay_{year}.geojson' -n 'gb_nfi_awi_overlay_{year}' -l 'gb_nfi_awi_overlay_{year}' --attribution='{combined_attribution_html}' --description='National Forest Inventory dataset for {year} overlayed with the Ancient Woodland Inventories datasets combined across Great Britain' -f"
   ]
  },
  {
   "cell_type": "code",
   "execution_count": null,
   "metadata": {},
   "outputs": [],
   "source": [
    "# FAIL: --coalesce-densest-as-needed\n",
    "# Time: x, Size: x\n",
    "# Hangs on 'Going to try keeping 0.00% of the features to make it fit 46.1%  5/15/10 '\n",
    "!tippecanoe -P -zg --coalesce-densest-as-needed -o 'tiles/experimental/gb_nfi_awi_overlay_{year}.mbtiles' 'tiles/experimental/gb_nfi_awi_overlay_{year}.geojson' -n 'gb_nfi_awi_overlay_{year}' -l 'gb_nfi_awi_overlay_{year}' --attribution='{combined_attribution_html}' --description='National Forest Inventory dataset for {year} overlayed with the Ancient Woodland Inventories datasets combined across Great Britain' -f"
   ]
  },
  {
   "cell_type": "code",
   "execution_count": null,
   "metadata": {},
   "outputs": [],
   "source": [
    "# FAIL: --coalesce-smallest-as-needed\n",
    "## Crashes at 'Going to try keeping the biggest 0.00% of the features to make it fit tile 5/15/10 size is 717848 with detail 12, >500000'\n",
    "!tippecanoe -P -zg --coalesce-smallest-as-needed -o 'tiles/gb_nfi_awi_overlay_{year}.mbtiles' 'tiles/gb_nfi_awi_overlay_{year}.geojson' -n 'gb_nfi_awi_overlay_{year}' -l 'gb_nfi_awi_overlay_{year}' --attribution='{combined_attribution_html}' --description='National Forest Inventory dataset for {year} overlayed with the Ancient Woodland Inventories datasets combined across Great Britain' -f"
   ]
  },
  {
   "cell_type": "markdown",
   "metadata": {},
   "source": [
    "### Things that don't work\n",
    "\n",
    "`--no-tiny-polygon-reduction` doesn't work because it vastly increases the number of features on lower zoom levels.\n",
    "`--no-duplication` \"cuts out\" the features from polygons near\n",
    "\n",
    "### To Try:\n",
    "`--detect-shared-borders`: In the manner of TopoJSON, detect borders that are shared between multiple polygons and simplify them identically in each polygon. This takes more time and memory than considering each polygon individually.\n",
    "- regular setting <5 level, then 5-9 try something else, then again regular setting 9 onward. Maybe simplify on lower zoom levels?\n",
    "`--coalesce`: Coalesce consecutive features that have the same attributes. This can be useful if you have lots of small polygons with identical attributes and you would like to merge them together.\n",
    "`--hilbert`: Put features in Hilbert Curve order instead of the usual Z-Order. This improves the odds that spatially adjacent features will be sequentially adjacent, and should improve density calculations and spatial coalescing. It should be the default eventually."
   ]
  }
 ],
 "metadata": {
  "language_info": {
   "name": "python"
  }
 },
 "nbformat": 4,
 "nbformat_minor": 2
}

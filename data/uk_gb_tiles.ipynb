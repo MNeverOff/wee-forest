{
 "cells": [
  {
   "cell_type": "markdown",
   "metadata": {},
   "source": [
    "## MBTiles\n",
    "Be vary of performing any `geometry` calculations on the dataset once it's out o the EPSG:27700 format, as it'll be way less accurate in the `geometry.area()` or even represent it in degrees instead o meters, as per the CRS UTM zone.\n",
    "\n",
    "It's likely possible to use feature aggregation against area_ha to entirely bypass having to use Area Calculation, but it's not clear if it'll result in a performant and size-efficient MBTiles file.\n",
    "\n",
    "### Notes\n",
    "\n",
    "All runtimes are indicated for Apple M1 Max 64GB. "
   ]
  },
  {
   "cell_type": "code",
   "execution_count": null,
   "metadata": {},
   "outputs": [],
   "source": [
    "import os\n",
    "import geopandas as gpd\n",
    "gpd.options.io_engine = 'pyogrio'"
   ]
  },
  {
   "cell_type": "code",
   "execution_count": null,
   "metadata": {},
   "outputs": [],
   "source": [
    "awi_attribution_html = 'Natural England, NatureScot, Scottish Forestry, Natural Resources Wales. Contains Ordnance Survey Data. © <a href=\"https://www.nationalarchives.gov.uk/doc/open-government-licence/version/3/\">Crown copyright and database right 2006-2022</a>'\n",
    "nfi_attribution_html = 'Forestry Commission. Contains Ordnance Survey Data. © <a href=\"https://www.nationalarchives.gov.uk/doc/open-government-licence/version/3/\">Crown copyright and database right 2012-2022</a>'\n",
    "combined_attribution_html = 'Forestry Commission, Natural England, NatureScot, Scottish Forestry, Natural Resources Wales. Contains Ordnance Survey Data. © <a href=\"https://www.nationalarchives.gov.uk/doc/open-government-licence/version/3/\">Crown copyright and database right 2006-2022</a>'"
   ]
  },
  {
   "cell_type": "code",
   "execution_count": null,
   "metadata": {},
   "outputs": [],
   "source": [
    "def generate_tiles(year, datasetname, description, attribution):\n",
    "    p1 = f'tiles/{datasetname}_{year}-p1.mbtiles'\n",
    "    p2 = f'tiles/{datasetname}_{year}-p2.mbtiles'\n",
    "    p3 = f'tiles/{datasetname}_{year}-p3.mbtiles'\n",
    "    p4 = f'tiles/{datasetname}_{year}-p4.mbtiles'\n",
    "    p12 = f'tiles/{datasetname}_{year}-p12.mbtiles'\n",
    "    p34 = f'tiles/{datasetname}_{year}-p34.mbtiles'\n",
    "    fin = f'tiles/{datasetname}_{year}.mbtiles'\n",
    "    file_names = [p1, p2, p3, p4, p12, p34]\n",
    "\n",
    "    !tippecanoe -P -z5 --gamma=2 -o '{p1}' 'tiles/{datasetname}_{year}.geojson' -n '{datasetname}_{year}' -l '{datasetname}' --attribution='{attribution}' --description='{description}' -f\n",
    "    !tippecanoe -P -Z6 -z6 --gamma=1 --drop-smallest-as-needed -o '{p2}' 'tiles/{datasetname}_{year}.geojson' -n '{datasetname}_{year}' -l '{datasetname}' --attribution='{attribution}' --description='{description}' -f\n",
    "    !tippecanoe -P -Z7 -zg -o '{p3}' 'tiles/{datasetname}_{year}.geojson' -n '{datasetname}_{year}' -l '{datasetname}' --attribution='{attribution}' --description='{description}' -f\n",
    "    \n",
    "    !tile-join -pk --force -o $p12 $p1 $p2\n",
    "    !tile-join -pk --force -o $fin $p12 $p3\n",
    "\n",
    "    for file in file_names:\n",
    "        if os.path.exists(file):\n",
    "            os.remove(file)"
   ]
  },
  {
   "cell_type": "code",
   "execution_count": null,
   "metadata": {},
   "outputs": [],
   "source": [
    "# Runtime: 2m, RAM: 3GB max, Disk: 55MB\n",
    "awi_dataset = gpd.read_parquet('../data/processed/gb_awi_dataset.parquet')\n",
    "awi_dataset.geometry = awi_dataset.geometry.to_crs(epsg=4326)\n",
    "awi_dataset.geometry = awi_dataset.geometry.simplify(1e-5)\n",
    "awi_dataset.to_file('tiles/gb_awi_dataset.geojson', driver='GeoJSONSeq')\n",
    "!tippecanoe -zg -o 'tiles/gb_awi_dataset.mbtiles' 'tiles/gb_awi_dataset.geojson' -n 'gb_awi_dataset' -l 'gb_awi_dataset' --attribution='{awi_attribution_html}' --description='Ancient Woodland Inventories datasets combined across Great Britain' -f\n",
    "os.remove('tiles/gb_awi_dataset.geojson')\n",
    "del awi_dataset"
   ]
  },
  {
   "cell_type": "code",
   "execution_count": null,
   "metadata": {},
   "outputs": [],
   "source": [
    "# Runtime per year: 10m, RAM: 12GB max, Disk: 220-400MB per year, total 3GB\n",
    "for year in range(2012, 2023):\n",
    "    nfi_awi_overlay = gpd.read_parquet(f'processed/gb_nfi_awi_overlay_{year}.parquet')\n",
    "    nfi_awi_overlay.geometry = nfi_awi_overlay.geometry.to_crs(epsg=4326)\n",
    "    nfi_awi_overlay.geometry = nfi_awi_overlay.geometry.simplify(1e-5)\n",
    "    nfi_awi_overlay.to_file(f'tiles/gb_nfi_awi_overlay_{year}.geojson', driver='GeoJSONSeq')\n",
    "    generate_tiles(year, 'gb_nfi_awi_overlay', f'National Forest Inventory dataset for {year} overlayed with the Ancient Woodland Inventories datasets combined across Great Britain', combined_attribution_html)\n",
    "    os.remove(f'tiles/gb_nfi_awi_overlay_{year}.geojson')\n",
    "\n",
    "del nfi_awi_overlay"
   ]
  },
  {
   "cell_type": "code",
   "execution_count": null,
   "metadata": {},
   "outputs": [],
   "source": [
    "# Runtime, per year: 6m, RAM: 8GB max, Disk: 135-150MB, total 1.6GB\n",
    "for year in range(2012, 2023):\n",
    "    nfi_dataset = gpd.read_parquet(f'processed/gb_nfi_dataset_{year}.parquet')\n",
    "    nfi_dataset.geometry = nfi_dataset.geometry.to_crs(epsg=4326)\n",
    "    nfi_dataset.geometry = nfi_dataset.geometry.simplify(1e-5)\n",
    "    nfi_dataset.to_file(f'tiles/gb_nfi_dataset_{year}.geojson', driver='GeoJSONSeq')\n",
    "    generate_tiles(year, 'gb_nfi_dataset', f'National Forest Inventory dataset for {year}', nfi_attribution_html)\n",
    "    os.remove(f'tiles/gb_nfi_dataset_{year}.geojson')\n",
    "\n",
    "del nfi_dataset"
   ]
  }
 ],
 "metadata": {
  "kernelspec": {
   "display_name": ".venv",
   "language": "python",
   "name": "python3"
  },
  "language_info": {
   "codemirror_mode": {
    "name": "ipython",
    "version": 3
   },
   "file_extension": ".py",
   "mimetype": "text/x-python",
   "name": "python",
   "nbconvert_exporter": "python",
   "pygments_lexer": "ipython3",
   "version": "3.11.8"
  }
 },
 "nbformat": 4,
 "nbformat_minor": 2
}

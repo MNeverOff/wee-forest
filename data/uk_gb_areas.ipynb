{
 "cells": [
  {
   "cell_type": "markdown",
   "metadata": {},
   "source": [
    "## Reducing geometry to single point\n",
    "\n",
    "To \"step out\" of the geometrical calculations we'll add columns for X and Y coordinates, storing the center point of the area and will use that to calculate bounding box (viewport) area. This is an allowable approximation, especially since the alternative is running a computationally expensive spatial intersect operation for a user interaction that's very repeatable and frequently ran (moving, panning, zooming the map).\n",
    "\n",
    "This also allows us to entirely forego geospatial databases and use DuckDB - a highly efficient SQLite implementation that supports file-based mode and parquet file binding.\n",
    "\n",
    "We need to convert the datasets from CRS 27700 to 4326 that's used in the projection. We can safely disregard the `Geometry is in a geographic CRS. Results from 'centroid' are likely incorrect. Use 'GeoSeries.to_crs()' to re-project geometries to a projected CRS before this operation.` User Warning, as the approximation of the centroid is accurate enough for our purposes.\n",
    "\n",
    "### Notes\n",
    "\n",
    "All runtimes are indicated for Apple M1 Max 64GB. "
   ]
  },
  {
   "cell_type": "code",
   "execution_count": null,
   "metadata": {},
   "outputs": [],
   "source": [
    "import pandas as pd\n",
    "import geopandas as gpd\n",
    "gpd.options.io_engine = 'pyogrio'"
   ]
  },
  {
   "cell_type": "code",
   "execution_count": null,
   "metadata": {},
   "outputs": [],
   "source": [
    "# Runtime: 2s, RAM: 1.5GB max\n",
    "awi_dataset = gpd.read_parquet('../data/processed/gb_awi_dataset.parquet')\n",
    "awi_dataset = awi_dataset.to_crs(epsg=4326)\n",
    "\n",
    "awi_dataset_points = pd.DataFrame(awi_dataset)\n",
    "\n",
    "awi_dataset_points['x'] = awi_dataset.geometry.centroid.x\n",
    "awi_dataset_points['y'] = awi_dataset.geometry.centroid.y\n",
    "awi_dataset_points = awi_dataset_points[['type_combined', 'type_aggregate', 'type_source', 'area_ha', 'x', 'y']]\n",
    "awi_dataset_points.to_parquet('../data/area/gb_awi_dataset_points.parquet')\n",
    "\n",
    "del awi_dataset, awi_dataset_points"
   ]
  },
  {
   "cell_type": "code",
   "execution_count": null,
   "metadata": {},
   "outputs": [],
   "source": [
    "# Runtime: 1m20s, RAM: 8GB max\n",
    "for year in range(2012, 2023):\n",
    "    nfi_dataset = gpd.read_parquet(f'../data/processed/gb_nfi_dataset_{year}.parquet')\n",
    "    nfi_dataset = nfi_dataset.to_crs(epsg=4326)\n",
    "\n",
    "    nfi_dataset_points = pd.DataFrame(nfi_dataset)\n",
    "    nfi_dataset_points['x'] = nfi_dataset.geometry.centroid.x\n",
    "    nfi_dataset_points['y'] = nfi_dataset.geometry.centroid.y\n",
    "    nfi_dataset_points = nfi_dataset_points[['type_combined', 'type_aggregate', 'type_source', 'area_ha', 'x', 'y']]\n",
    "    nfi_dataset_points.to_parquet(f'../data/area/gb_nfi_dataset_{year}_points.parquet')\n",
    "\n",
    "del nfi_dataset, nfi_dataset_points"
   ]
  },
  {
   "cell_type": "code",
   "execution_count": null,
   "metadata": {},
   "outputs": [],
   "source": [
    "# Runtime: 2m, RAM: 12GB max\n",
    "for year in range(2012, 2023):\n",
    "    nfi_awi_overlay = gpd.read_parquet(f'processed/gb_nfi_awi_overlay_{year}.parquet')\n",
    "    nfi_awi_overlay = nfi_awi_overlay.to_crs(epsg=4326)\n",
    "    \n",
    "    nfi_awi_overlay_points = pd.DataFrame(nfi_awi_overlay)\n",
    "    nfi_awi_overlay_points['x'] = nfi_awi_overlay.geometry.centroid.x\n",
    "    nfi_awi_overlay_points['y'] = nfi_awi_overlay.geometry.centroid.y\n",
    "    nfi_awi_overlay_points = nfi_awi_overlay_points[['type_overlay', 'type_combined', 'type_aggregate', 'type_source', 'area_ha', 'x', 'y']]\n",
    "    nfi_awi_overlay_points.to_parquet(f'../data/area/gb_nfi_awi_overlay_{year}_points.parquet')\n",
    "\n",
    "#del nfi_awi_overlay, nfi_awi_overlay_points"
   ]
  }
 ],
 "metadata": {
  "kernelspec": {
   "display_name": ".venv",
   "language": "python",
   "name": "python3"
  },
  "language_info": {
   "codemirror_mode": {
    "name": "ipython",
    "version": 3
   },
   "file_extension": ".py",
   "mimetype": "text/x-python",
   "name": "python",
   "nbconvert_exporter": "python",
   "pygments_lexer": "ipython3",
   "version": "3.11.8"
  }
 },
 "nbformat": 4,
 "nbformat_minor": 2
}

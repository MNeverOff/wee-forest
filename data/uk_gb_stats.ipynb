{
 "cells": [
  {
   "cell_type": "code",
   "execution_count": null,
   "metadata": {},
   "outputs": [],
   "source": [
    "import pandas as pd\n",
    "import geopandas as gpd\n",
    "\n",
    "import util.plot_ops as pops"
   ]
  },
  {
   "cell_type": "code",
   "execution_count": null,
   "metadata": {},
   "outputs": [],
   "source": [
    "types = ['combined', 'aggregate', 'source']\n",
    "overlay_types = ['overlay'] + types\n",
    "\n",
    "nfi_summary = {}\n",
    "awi_summary = {}\n",
    "\n",
    "for type in types:\n",
    "    nfi_summary[type] = pd.read_csv(f'sheets/gb_nfi_{type}_summary.csv')\n",
    "    awi_summary[type] = pd.read_csv(f'sheets/gb_awi_{type}_summary.csv')\n",
    "\n",
    "nfi_awi_summary = {}\n",
    "\n",
    "for type in overlay_types:\n",
    "    nfi_awi_summary[type] = pd.read_csv(f'sheets/gb_nfi_awi_{type}_summary.csv')\n",
    "\n",
    "awi_attribution = 'Natural England, NatureScot, Scottish Forestry, Natural Resources Wales. Contains Ordnance Survey Data. © Crown copyright and database right 2006-2022'\n",
    "nfi_attribution = 'Forestry Commission. Contains Ordnance Survey Data. © Crown copyright and database right 2012-2022'\n",
    "combined_attribution = 'Forestry Commission, Natural England, NatureScot, Scottish Forestry, Natural Resources Wales. Contains Ordnance Survey Data. © Crown copyright and database right 2006-2022'"
   ]
  },
  {
   "cell_type": "code",
   "execution_count": null,
   "metadata": {},
   "outputs": [],
   "source": [
    "#overlay_felled = nfi_awi_overlay['overlay'].replace('Felled Native Trees', 'Felled').groupby('type_overlay').sum().reset_index()\n",
    "pops.plot_df_over_time(nfi_awi_summary['overlay'], 'overlay', combined_attribution)"
   ]
  },
  {
   "cell_type": "code",
   "execution_count": null,
   "metadata": {},
   "outputs": [],
   "source": [
    "pops.plot_df_over_time(nfi_summary['source'], 'source', nfi_attribution)"
   ]
  },
  {
   "cell_type": "code",
   "execution_count": null,
   "metadata": {},
   "outputs": [],
   "source": [
    "# Calculating which areas the Native Trees were lost to\n",
    "gb_nfi_awi_overlay = {}\n",
    "\n",
    "for year in range(2022, 2023):\n",
    "    gb_nfi_awi_overlay[year] = gpd.read_parquet(f'../data/processed/gb_nfi_awi_overlay_{year}.parquet')"
   ]
  },
  {
   "cell_type": "code",
   "execution_count": null,
   "metadata": {},
   "outputs": [],
   "source": [
    "# Filter the DataFrame for 'Felled Native Trees' and show the 'type_source' of the area in 2022\n",
    "gb_nfi_awi_overlay[2022].loc[gb_nfi_awi_overlay[2022]['type_overlay'] == 'Felled Native Trees'].groupby('type_source')['area_ha'].sum()"
   ]
  },
  {
   "cell_type": "code",
   "execution_count": null,
   "metadata": {},
   "outputs": [],
   "source": [
    "# Filter the DataFrame for 'Felled Native Trees' and show the 'type_source' of the area in 2022\n",
    "gb_nfi_awi_overlay[2022].loc[gb_nfi_awi_overlay[2022]['type_overlay'] == 'Felled Native Trees'].groupby('type_source')['area_ha'].sum()"
   ]
  }
 ],
 "metadata": {
  "kernelspec": {
   "display_name": ".venv",
   "language": "python",
   "name": "python3"
  },
  "language_info": {
   "codemirror_mode": {
    "name": "ipython",
    "version": 3
   },
   "file_extension": ".py",
   "mimetype": "text/x-python",
   "name": "python",
   "nbconvert_exporter": "python",
   "pygments_lexer": "ipython3",
   "version": "3.11.8"
  }
 },
 "nbformat": 4,
 "nbformat_minor": 2
}
